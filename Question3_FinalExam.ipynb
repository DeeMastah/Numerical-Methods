{
  "nbformat": 4,
  "nbformat_minor": 0,
  "metadata": {
    "colab": {
      "name": "Question3_FinalExam.ipynb",
      "provenance": [],
      "authorship_tag": "ABX9TyNfPoETxBaXaB88Q72mHwis",
      "include_colab_link": true
    },
    "kernelspec": {
      "name": "python3",
      "display_name": "Python 3"
    },
    "language_info": {
      "name": "python"
    }
  },
  "cells": [
    {
      "cell_type": "markdown",
      "metadata": {
        "id": "view-in-github",
        "colab_type": "text"
      },
      "source": [
        "<a href=\"https://colab.research.google.com/github/DeeMastah/Numerical-Methods-58011/blob/main/Question3_FinalExam.ipynb\" target=\"_parent\"><img src=\"https://colab.research.google.com/assets/colab-badge.svg\" alt=\"Open In Colab\"/></a>"
      ]
    },
    {
      "cell_type": "code",
      "execution_count": 1,
      "metadata": {
        "colab": {
          "base_uri": "https://localhost:8080/"
        },
        "id": "aVlPOGYO194p",
        "outputId": "dd27bbb0-7af8-47be-fde5-9ed7dd56afe0"
      },
      "outputs": [
        {
          "output_type": "stream",
          "name": "stdout",
          "text": [
            "Integral = 2.1731\n"
          ]
        }
      ],
      "source": [
        "import math\n",
        "\n",
        "def f(x):\n",
        "  return(math.exp(x)) #Define the trigonometric function\n",
        "a = -1\n",
        "b = 1\n",
        "n = 10\n",
        "h = (b-a)/n   #Width of the trapezoid\n",
        "S = h * (f(a)+f(b))    #Starting value of the summation\n",
        "\n",
        "for i in range(1,n):\n",
        "    S += f(a+i*h)\n",
        "integ = S*h\n",
        "\n",
        "print('Integral = %0.4f' %integ)"
      ]
    }
  ]
}