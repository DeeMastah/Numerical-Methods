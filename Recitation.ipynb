{
  "nbformat": 4,
  "nbformat_minor": 0,
  "metadata": {
    "colab": {
      "name": "Recitation.ipynb",
      "provenance": [],
      "authorship_tag": "ABX9TyNAmaU5k86LUj7Q9ErsGhmk",
      "include_colab_link": true
    },
    "kernelspec": {
      "name": "python3",
      "display_name": "Python 3"
    },
    "language_info": {
      "name": "python"
    }
  },
  "cells": [
    {
      "cell_type": "markdown",
      "metadata": {
        "id": "view-in-github",
        "colab_type": "text"
      },
      "source": [
        "<a href=\"https://colab.research.google.com/github/DeeMastah/Numerical-Methods-58011/blob/main/Recitation.ipynb\" target=\"_parent\"><img src=\"https://colab.research.google.com/assets/colab-badge.svg\" alt=\"Open In Colab\"/></a>"
      ]
    },
    {
      "cell_type": "code",
      "execution_count": null,
      "metadata": {
        "colab": {
          "base_uri": "https://localhost:8080/"
        },
        "id": "MmF8tp9qwWN3",
        "outputId": "8ae1ed0b-2e2e-441a-9df6-f779dac1dcc8"
      },
      "outputs": [
        {
          "output_type": "stream",
          "name": "stdout",
          "text": [
            "Integral = 1.6005\n"
          ]
        }
      ],
      "source": [
        "def f(x):\n",
        "  return(0.2+25*x-200*x**2+675*x**3-900*x**4+400*x**5) \n",
        "\n",
        "a=0\n",
        "b=0.8\n",
        "n=10\n",
        "h=(b-a)/n #The width of the Trapezpod\n",
        "S=h*(f(a)+f(b)) #The beggining value of the summation\n",
        "\n",
        "for i in range (1,n):\n",
        "    S+=f(a+i*h)\n",
        "integ = S*h\n",
        "\n",
        "print(\"Integral = %0.4f\" %integ) #Displays the output\n",
        "\n"
      ]
    }
  ]
}